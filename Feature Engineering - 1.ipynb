{
 "cells": [
  {
   "cell_type": "markdown",
   "id": "4aef6920",
   "metadata": {},
   "source": [
    "\n",
    "**Q1. What is the Filter method in feature selection, and how does it work?**\n",
    "The Filter method is a feature selection technique that involves evaluating the relevance of each feature to the target variable independently of the chosen model. It typically uses statistical measures or domain knowledge to rank features and select the top-performing ones. Common statistical measures include correlation, mutual information, chi-squared, and variance.\n",
    "\n",
    "**Q2. How does the Wrapper method differ from the Filter method in feature selection?**\n",
    "The Wrapper method involves selecting features based on how well they improve the performance of a specific machine learning algorithm. It uses iterative techniques like forward selection, backward elimination, or recursive feature elimination to search for the optimal subset of features. Unlike the Filter method, the Wrapper method evaluates feature subsets by training and testing the model iteratively.\n",
    "\n",
    "**Q3. What are some common techniques used in Embedded feature selection methods?**\n",
    "Embedded feature selection methods include techniques like LASSO (L1 regularization), Ridge (L2 regularization), Decision Trees with feature importances, and Support Vector Machines with feature weights. These methods incorporate feature selection directly into the model training process.\n",
    "\n",
    "**Q4. What are some drawbacks of using the Filter method for feature selection?**\n",
    "Drawbacks of the Filter method include:\n",
    "1. It doesn't consider feature interactions.\n",
    "2. It may select irrelevant features that are highly correlated with the target but don't provide useful information.\n",
    "3. It doesn't take into account the specific machine learning model being used.\n",
    "\n",
    "**Q5. In which situations would you prefer using the Filter method over the Wrapper method for feature selection?**\n",
    "The Filter method is preferred when you have a large number of features and you want to quickly identify the most relevant ones without the computational cost of model training. It's also useful when you want to gain insights into the relationships between individual features and the target variable.\n",
    "\n"
   ]
  },
  {
   "cell_type": "code",
   "execution_count": null,
   "id": "9d571c90",
   "metadata": {},
   "outputs": [],
   "source": []
  }
 ],
 "metadata": {
  "kernelspec": {
   "display_name": "Python 3 (ipykernel)",
   "language": "python",
   "name": "python3"
  },
  "language_info": {
   "codemirror_mode": {
    "name": "ipython",
    "version": 3
   },
   "file_extension": ".py",
   "mimetype": "text/x-python",
   "name": "python",
   "nbconvert_exporter": "python",
   "pygments_lexer": "ipython3",
   "version": "3.10.4"
  }
 },
 "nbformat": 4,
 "nbformat_minor": 5
}
