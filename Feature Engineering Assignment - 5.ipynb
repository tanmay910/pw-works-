{
 "cells": [
  {
   "cell_type": "markdown",
   "id": "618cc881",
   "metadata": {},
   "source": [
    "\n",
    "\n",
    "### Q1. Pearson Correlation Coefficient\n",
    "\n",
    "Let's assume the data for the amount of time students spend studying (in hours) and their corresponding exam scores are as follows:\n",
    "\n",
    "| Study Time (hours) | Exam Score |\n",
    "|--------------------|------------|\n",
    "| 10                 | 85         |\n",
    "| 5                  | 65         |\n",
    "| 8                  | 75         |\n",
    "| 3                  | 50         |\n",
    "| 7                  | 70         |\n",
    "\n",
    "\n"
   ]
  },
  {
   "cell_type": "code",
   "execution_count": 1,
   "id": "9a8ff730",
   "metadata": {},
   "outputs": [
    {
     "name": "stdout",
     "output_type": "stream",
     "text": [
      "Pearson Correlation Coefficient: 0.99\n"
     ]
    }
   ],
   "source": [
    "import numpy as np\n",
    "from scipy.stats import pearsonr\n",
    "\n",
    "study_time = [10, 5, 8, 3, 7]\n",
    "exam_score = [85, 65, 75, 50, 70]\n",
    "\n",
    "# Calculate Pearson correlation coefficient\n",
    "pearson_corr, _ = pearsonr(study_time, exam_score)\n",
    "\n",
    "print(f\"Pearson Correlation Coefficient: {pearson_corr:.2f}\")"
   ]
  },
  {
   "cell_type": "markdown",
   "id": "1b06c266",
   "metadata": {},
   "source": [
    "Interpretation:\n",
    "A positive Pearson correlation coefficient (closer to +1) indicates a positive linear relationship between study time and exam scores. In other words, students who spend more time studying tend to achieve higher exam scores."
   ]
  },
  {
   "cell_type": "markdown",
   "id": "a4c0a84e",
   "metadata": {},
   "source": [
    "\n",
    "\n",
    "### Q2. Spearman's Rank Correlation\n",
    "\n",
    "Assuming the data for the amount of sleep individuals get and their job satisfaction levels are as follows:\n",
    "\n",
    "| Sleep (hours) | Job Satisfaction |\n",
    "|---------------|------------------|\n",
    "| 7             | 8                |\n",
    "| 6             | 6                |\n",
    "| 8             | 9                |\n",
    "| 5             | 3                |\n",
    "| 6             | 5                |\n",
    "\n",
    "\n"
   ]
  },
  {
   "cell_type": "code",
   "execution_count": 2,
   "id": "8d3813f7",
   "metadata": {},
   "outputs": [
    {
     "name": "stdout",
     "output_type": "stream",
     "text": [
      "Spearman's Rank Correlation: 0.97\n"
     ]
    }
   ],
   "source": [
    "from scipy.stats import spearmanr\n",
    "\n",
    "sleep_hours = [7, 6, 8, 5, 6]\n",
    "job_satisfaction = [8, 6, 9, 3, 5]\n",
    "\n",
    "# Calculate Spearman's rank correlation\n",
    "spearman_corr, _ = spearmanr(sleep_hours, job_satisfaction)\n",
    "\n",
    "print(f\"Spearman's Rank Correlation: {spearman_corr:.2f}\")"
   ]
  },
  {
   "cell_type": "markdown",
   "id": "fa8e50be",
   "metadata": {},
   "source": [
    "\n",
    "Interpretation:\n",
    "A positive Spearman's rank correlation (closer to +1) indicates a monotonic positive relationship between sleep hours and job satisfaction. In other words, individuals who get more sleep tend to have higher job satisfaction levels."
   ]
  },
  {
   "cell_type": "markdown",
   "id": "d8420673",
   "metadata": {},
   "source": [
    "\n",
    "\n",
    "### Q3. Pearson and Spearman Correlation for Exercise and BMI\n",
    "\n",
    "Let's assume the data for the number of hours of exercise per week and BMI for 50 participants are available:\n",
    "\n"
   ]
  },
  {
   "cell_type": "code",
   "execution_count": 3,
   "id": "b8befb64",
   "metadata": {},
   "outputs": [
    {
     "name": "stdout",
     "output_type": "stream",
     "text": [
      "Pearson Correlation Coefficient: -0.40\n",
      "Spearman's Rank Correlation: -0.50\n"
     ]
    }
   ],
   "source": [
    "import numpy as np\n",
    "from scipy.stats import pearsonr, spearmanr\n",
    "\n",
    "exercise_hours = [3, 4, 5, 2, 6]  \n",
    "bmi = [25.2, 22.5, 28.1, 30.0, 24.8] \n",
    "\n",
    "# Calculate Pearson correlation coefficient\n",
    "pearson_corr_exercise_bmi, _ = pearsonr(exercise_hours, bmi)\n",
    "\n",
    "# Calculate Spearman's rank correlation\n",
    "spearman_corr_exercise_bmi, _ = spearmanr(exercise_hours, bmi)\n",
    "\n",
    "print(f\"Pearson Correlation Coefficient: {pearson_corr_exercise_bmi:.2f}\")\n",
    "print(f\"Spearman's Rank Correlation: {spearman_corr_exercise_bmi:.2f}\")"
   ]
  },
  {
   "cell_type": "markdown",
   "id": "c403b58d",
   "metadata": {},
   "source": [
    "\n",
    "Comparison:\n",
    "- Pearson correlation measures linear relationships, so a positive Pearson correlation would suggest that as exercise hours increase, BMI tends to decrease (inverse relationship).\n",
    "- Spearman's rank correlation assesses monotonic relationships. If participants with higher exercise hours tend to have lower BMIs (or vice versa), Spearman's rank correlation would be positive.\n"
   ]
  },
  {
   "cell_type": "markdown",
   "id": "37224181",
   "metadata": {},
   "source": [
    "\n",
    "\n",
    "### Q4. Pearson Correlation Coefficient for TV Watching and Physical Activity\n",
    "\n",
    "Let's assume the data for the number of hours of television watching per day and the level of physical activity (scaled) for 50 participants are available:\n",
    "\n"
   ]
  },
  {
   "cell_type": "code",
   "execution_count": 4,
   "id": "19e4956c",
   "metadata": {},
   "outputs": [
    {
     "name": "stdout",
     "output_type": "stream",
     "text": [
      "Pearson Correlation Coefficient: -0.99\n"
     ]
    }
   ],
   "source": [
    "tv_hours = [2, 3, 4, 5, 2]  \n",
    "physical_activity = [7, 6, 5, 3, 7]  \n",
    "\n",
    "# Calculate Pearson correlation coefficient\n",
    "pearson_corr_tv_physical, _ = pearsonr(tv_hours, physical_activity)\n",
    "\n",
    "print(f\"Pearson Correlation Coefficient: {pearson_corr_tv_physical:.2f}\")"
   ]
  },
  {
   "cell_type": "markdown",
   "id": "00f9ced5",
   "metadata": {},
   "source": [
    "\n",
    "Interpretation:\n",
    "The Pearson correlation coefficient will help you understand the linear relationship between the number of hours individuals spend watching television and their level of physical activity. A negative Pearson correlation would suggest that as TV watching hours increase, physical activity tends to decrease, indicating a potential inverse relationship."
   ]
  },
  {
   "cell_type": "markdown",
   "id": "91efa95e",
   "metadata": {},
   "source": [
    "Let's start by addressing Q5:\n",
    "\n",
    "### Q5. Relationship Between Age and Soft Drink Preference\n",
    "\n",
    "Since one variable is categorical (soft drink preference) and the other is ordinal (age), calculating the Pearson correlation coefficient is not appropriate. Instead, you can calculate a point-biserial correlation coefficient or use other methods to analyze the relationship between these variables.\n",
    "\n",
    "For point-biserial correlation, you need to convert the categorical variable (soft drink preference) into a binary variable (e.g., 1 for Coke, 0 for other) and then calculate the correlation with age.\n",
    "\n",
    "Assuming you have the following data:\n",
    "\n",
    "| Age (Years) | Soft Drink Preference |\n",
    "|-------------|-----------------------|\n",
    "| 25          | Coke                  |\n",
    "| 42          | Pepsi                 |\n",
    "| 37          | Mountain Dew          |\n",
    "| 19          | Pepsi                 |\n",
    "| 31          | Coke                  |\n",
    "| 28          | (Unknown)             |\n",
    "\n",
    "\n",
    "\n"
   ]
  },
  {
   "cell_type": "code",
   "execution_count": 5,
   "id": "c21be3d4",
   "metadata": {},
   "outputs": [
    {
     "name": "stdout",
     "output_type": "stream",
     "text": [
      "Point-Biserial Correlation Coefficient: -0.31\n",
      "P-value: 0.5520\n"
     ]
    }
   ],
   "source": [
    "import numpy as np\n",
    "from scipy.stats import pointbiserialr\n",
    "\n",
    "# Sample data for age and soft drink preference\n",
    "age = [25, 42, 37, 19, 31, 28]\n",
    "soft_drink_preference = [1, 0, 0, 0, 1, 1]  # 1 for Coke, 0 for other\n",
    "\n",
    "# Calculate point-biserial correlation coefficient\n",
    "correlation_coefficient, p_value = pointbiserialr(soft_drink_preference, age)\n",
    "\n",
    "print(f\"Point-Biserial Correlation Coefficient: {correlation_coefficient:.2f}\")\n",
    "print(f\"P-value: {p_value:.4f}\")"
   ]
  },
  {
   "cell_type": "markdown",
   "id": "af95566b",
   "metadata": {},
   "source": [
    "Interpretation:\n",
    "The point-biserial correlation coefficient will provide a value between -1 and 1. A positive value suggests a positive relationship between choosing Coke and age, while a negative value suggests an inverse relationship. The p-value indicates the significance of the correlation.\n"
   ]
  },
  {
   "cell_type": "markdown",
   "id": "2ed69b42",
   "metadata": {},
   "source": [
    "\n",
    "### Q6. Relationship Between Sales Calls and Sales Made\n",
    "\n",
    "Let's move on to Q6:\n",
    "\n",
    "Assuming you have the data for the number of sales calls made per day and the number of sales made per week for 30 sales representatives:\n",
    "\n"
   ]
  },
  {
   "cell_type": "code",
   "execution_count": 6,
   "id": "f1c74c66",
   "metadata": {},
   "outputs": [
    {
     "name": "stdout",
     "output_type": "stream",
     "text": [
      "Pearson Correlation Coefficient: 0.99\n"
     ]
    }
   ],
   "source": [
    "import numpy as np\n",
    "from scipy.stats import pearsonr\n",
    "\n",
    "# Sample data for sales calls and sales made\n",
    "sales_calls = [15, 20, 12, 25]  # List of sales calls per day for 30 sales representatives\n",
    "sales_made = [50, 60, 40, 70]  # List of sales made per week for the same 30 sales representatives\n",
    "\n",
    "# Calculate Pearson correlation coefficient\n",
    "pearson_corr_sales_calls_sales_made, _ = pearsonr(sales_calls, sales_made)\n",
    "\n",
    "print(f\"Pearson Correlation Coefficient: {pearson_corr_sales_calls_sales_made:.2f}\")"
   ]
  },
  {
   "cell_type": "markdown",
   "id": "6f9ce6a1",
   "metadata": {},
   "source": [
    "\n",
    "Interpretation:\n",
    "The Pearson correlation coefficient will provide a value between -1 and 1. A positive value indicates a positive correlation, meaning that as the number of sales calls per day increases, the number of sales made per week tends to increase. A negative value indicates a negative correlation, suggesting that more sales calls might lead to fewer sales made per week. A value close to 0 suggests little to no linear correlation between the variables."
   ]
  }
 ],
 "metadata": {
  "kernelspec": {
   "display_name": "Python 3 (ipykernel)",
   "language": "python",
   "name": "python3"
  },
  "language_info": {
   "codemirror_mode": {
    "name": "ipython",
    "version": 3
   },
   "file_extension": ".py",
   "mimetype": "text/x-python",
   "name": "python",
   "nbconvert_exporter": "python",
   "pygments_lexer": "ipython3",
   "version": "3.10.4"
  }
 },
 "nbformat": 4,
 "nbformat_minor": 5
}
